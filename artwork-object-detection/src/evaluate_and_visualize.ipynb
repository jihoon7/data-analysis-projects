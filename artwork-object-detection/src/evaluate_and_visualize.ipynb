{
 "cells": [
  {
   "cell_type": "markdown",
   "metadata": {},
   "source": [
    "# 모델 평가 및 결과 시각화\n",
    "\n",
    "## 테스트 데이터 로드\n",
    "테스트 이미지를 평가하고 YOLOv8 모델의 예측 결과를 시각화합니다.\n"
   ]
  },
  {
   "cell_type": "code",
   "execution_count": null,
   "metadata": {},
   "outputs": [],
   "source": [
    "import os\n",
    "import cv2\n",
    "from ultralytics import YOLO\n",
    "import matplotlib.pyplot as plt\n",
    "\n",
    "def evaluate_model(model, test_data_dir):\n",
    "    test_images = [os.path.join(test_data_dir, img) for img in os.listdir(test_data_dir) if img.endswith(('.jpg', '.png'))]\n",
    "    if not test_images:\n",
    "        raise ValueError(f\"테스트 데이터가 없습니다: {test_data_dir}\")\n",
    "    return model.predict(source=test_images, save=True)\n",
    "\n",
    "def visualize_results(predictions):\n",
    "    for result in predictions:\n",
    "        img = cv2.cvtColor(cv2.imread(result.path), cv2.COLOR_BGR2RGB)\n",
    "        plt.figure(figsize=(8, 8))\n",
    "        plt.imshow(img)\n",
    "        plt.axis(\"off\")\n",
    "        plt.title(f\"Predicted: {os.path.basename(result.path)}\")\n",
    "        plt.show()\n",
    "\n",
    "if __name__ == \"__main__\":\n",
    "    base_dir = \"C:/Users/user/Desktop/data-analysis-projects/artwork-object-detection\"\n",
    "    test_data_dir = os.path.join(base_dir, \"tests\")\n",
    "    model_path = os.path.join(base_dir, \"models\", \"artwork_training\", \"weights\", \"best.pt\")\n",
    "    \n",
    "    model = YOLO(model_path)\n",
    "    predictions = evaluate_model(model, test_data_dir)\n",
    "    visualize_results(predictions)\n"
   ]
  }
 ],
 "metadata": {
  "kernelspec": {
   "display_name": "Python (ultralytics_env)",
   "language": "python",
   "name": "ultralytics_env"
  },
  "language_info": {
   "codemirror_mode": {
    "name": "ipython",
    "version": 3
   },
   "file_extension": ".py",
   "mimetype": "text/x-python",
   "name": "python",
   "nbconvert_exporter": "python",
   "pygments_lexer": "ipython3",
   "version": "3.9.21"
  }
 },
 "nbformat": 4,
 "nbformat_minor": 2
}
