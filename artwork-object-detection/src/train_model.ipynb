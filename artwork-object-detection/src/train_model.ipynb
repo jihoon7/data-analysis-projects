{
 "cells": [
  {
   "cell_type": "markdown",
   "metadata": {},
   "source": [
    "# 모델 학습\n",
    "\n",
    "## 데이터 경로 설정\n",
    "- YAML 파일: `processed_data/`\n",
    "\n",
    "## 모델 학습\n",
    "YOLOv8 모델을 학습하여 `models/` 폴더에 결과를 저장합니다.\n"
   ]
  },
  {
   "cell_type": "code",
   "execution_count": null,
   "metadata": {},
   "outputs": [],
   "source": [
    "from ultralytics import YOLO\n",
    "import os\n",
    "\n",
    "def train_model(data_yaml_path, model_save_dir, epochs=10):\n",
    "    model = YOLO(\"yolov8s\")\n",
    "    model.train(\n",
    "        data=data_yaml_path,\n",
    "        epochs=epochs,\n",
    "        imgsz=640,\n",
    "        batch=16,\n",
    "        project=model_save_dir,\n",
    "        name=\"artwork_training\",\n",
    "        save=True\n",
    "    )\n",
    "    return model\n",
    "\n",
    "if __name__ == \"__main__\":\n",
    "    base_dir = \"C:/Users/user/Desktop/data-analysis-projects/artwork-object-detection\"\n",
    "    processed_data_dir = os.path.join(base_dir, \"processed_data\")\n",
    "    data_yaml_path = os.path.join(processed_data_dir, \"artwork_data.yaml\")\n",
    "    model_save_dir = os.path.join(base_dir, \"models\")\n",
    "    os.makedirs(model_save_dir, exist_ok=True)\n",
    "\n",
    "    train_model(data_yaml_path, model_save_dir, epochs=10)\n"
   ]
  }
 ],
 "metadata": {
  "kernelspec": {
   "display_name": "Python (ultralytics_env)",
   "language": "python",
   "name": "ultralytics_env"
  },
  "language_info": {
   "codemirror_mode": {
    "name": "ipython",
    "version": 3
   },
   "file_extension": ".py",
   "mimetype": "text/x-python",
   "name": "python",
   "nbconvert_exporter": "python",
   "pygments_lexer": "ipython3",
   "version": "3.9.21"
  }
 },
 "nbformat": 4,
 "nbformat_minor": 2
}
