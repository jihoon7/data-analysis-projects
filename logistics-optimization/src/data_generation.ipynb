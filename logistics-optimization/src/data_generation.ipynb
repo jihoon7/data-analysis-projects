{
 "cells": [
  {
   "cell_type": "code",
   "execution_count": null,
   "metadata": {},
   "outputs": [],
   "source": [
    "# 데이터 생성\n",
    "\n",
    "## 개요\n",
    "물류 데이터를 생성합니다. 창고 ID, 제품 수량, 날짜 등을 포함하며, 미래 수요를 예측하는 데 사용됩니다.\n",
    "\n",
    "## 데이터 생성 코드\n",
    "```python\n",
    "# 데이터 생성 코드\n",
    "import pandas as pd\n",
    "import random\n",
    "from datetime import datetime, timedelta\n",
    "\n",
    "# 데이터 생성\n",
    "start_date = datetime(2023, 1, 1)\n",
    "data = {\n",
    "    'WarehouseID': [random.randint(1, 5) for _ in range(200)],\n",
    "    'ProductQuantity': [random.randint(50, 500) for _ in range(200)],\n",
    "    'Date': [(start_date + timedelta(days=i)).strftime('%Y-%m-%d') for i in range(200)]\n",
    "}\n",
    "\n",
    "# 데이터프레임 저장\n",
    "df = pd.DataFrame(data)\n",
    "df.to_csv('C:/Users/user/Desktop/data-analysis-projects/logistics-optimization/data/logistics_data.csv', index=False)\n",
    "print(\"데이터 저장 완료.\")\n"
   ]
  },
  {
   "cell_type": "code",
   "execution_count": null,
   "metadata": {},
   "outputs": [],
   "source": []
  }
 ],
 "metadata": {
  "kernelspec": {
   "display_name": "Python (ultralytics_env)",
   "language": "python",
   "name": "ultralytics_env"
  },
  "language_info": {
   "codemirror_mode": {
    "name": "ipython",
    "version": 3
   },
   "file_extension": ".py",
   "mimetype": "text/x-python",
   "name": "python",
   "nbconvert_exporter": "python",
   "pygments_lexer": "ipython3",
   "version": "3.9.21"
  }
 },
 "nbformat": 4,
 "nbformat_minor": 2
}
