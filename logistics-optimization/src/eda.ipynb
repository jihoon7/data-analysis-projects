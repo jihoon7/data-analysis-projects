{
 "cells": [
  {
   "cell_type": "code",
   "execution_count": null,
   "metadata": {},
   "outputs": [],
   "source": [
    "# 데이터 탐색적 분석 (EDA)\n",
    "\n",
    "## 개요\n",
    "물류 데이터를 분석하여 수요 패턴과 트렌드를 파악합니다.\n",
    "\n",
    "## EDA 코드\n",
    "```python\n",
    "# EDA 코드\n",
    "import pandas as pd\n",
    "import seaborn as sns\n",
    "import matplotlib.pyplot as plt\n",
    "\n",
    "# 데이터 로드\n",
    "file_path = 'C:/Users/user/Desktop/data-analysis-projects/logistics-optimization/data/logistics_data.csv'\n",
    "df = pd.read_csv(file_path)\n",
    "\n",
    "# 날짜별 제품 수량 추세\n",
    "df['Date'] = pd.to_datetime(df['Date'])\n",
    "df.groupby('Date')['ProductQuantity'].sum().plot()\n",
    "plt.title('날짜별 제품 수량 추세')\n",
    "plt.show()\n",
    "\n",
    "# 창고별 제품 분포\n",
    "sns.boxplot(data=df, x='WarehouseID', y='ProductQuantity')\n",
    "plt.title('창고별 제품 분포')\n",
    "plt.show()\n"
   ]
  },
  {
   "cell_type": "code",
   "execution_count": null,
   "metadata": {},
   "outputs": [],
   "source": []
  }
 ],
 "metadata": {
  "kernelspec": {
   "display_name": "Python (ultralytics_env)",
   "language": "python",
   "name": "ultralytics_env"
  },
  "language_info": {
   "codemirror_mode": {
    "name": "ipython",
    "version": 3
   },
   "file_extension": ".py",
   "mimetype": "text/x-python",
   "name": "python",
   "nbconvert_exporter": "python",
   "pygments_lexer": "ipython3",
   "version": "3.9.21"
  }
 },
 "nbformat": 4,
 "nbformat_minor": 2
}
