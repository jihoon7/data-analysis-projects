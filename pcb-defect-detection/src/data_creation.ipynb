{
 "cells": [
  {
   "cell_type": "markdown",
   "metadata": {},
   "source": [
    "## 1. 데이터 생성\n",
    "\n",
    "### 설명\n",
    "이 단계에서는 PCB 결함 데이터를 생성합니다. 랜덤하게 결함이 포함된 이미지를 생성하여 모델 학습에 필요한 데이터를 준비합니다.\n",
    "\n",
    "### 주요 내용\n",
    "- 이미지 생성: `data/` 폴더에 이미지 저장.\n",
    "- 레이블 저장: `pcb_labels.json` 파일에 레이블 저장."
   ]
  },
  {
   "cell_type": "code",
   "execution_count": null,
   "metadata": {},
   "outputs": [],
   "source": [
    "# data_creation.ipynb\n",
    "import os\n",
    "import json\n",
    "import random\n",
    "from PIL import Image, ImageDraw\n",
    "\n",
    "# 프로젝트 경로 설정\n",
    "base_dir = \"C:/Users/user/Desktop/data-analysis-projects/pcb-defect-detection\"\n",
    "data_dir = os.path.join(base_dir, \"data\")\n",
    "os.makedirs(data_dir, exist_ok=True)\n",
    "\n",
    "# 이미지 생성 함수\n",
    "def create_pcb_image(filename, shapes):\n",
    "    image = Image.new(\"RGB\", (500, 500), color=\"white\")\n",
    "    draw = ImageDraw.Draw(image)\n",
    "    for shape in shapes:\n",
    "        draw.rectangle(shape[\"bbox\"], outline=\"red\", width=3)\n",
    "    image.save(filename)\n",
    "\n",
    "# 데이터 생성\n",
    "labels = []\n",
    "for i in range(1, 21):  # 20개의 데이터 생성\n",
    "    bbox = [random.randint(50, 400) for _ in range(4)]\n",
    "    bbox.sort()\n",
    "    shapes = [{\"bbox\": bbox}]\n",
    "    filename = os.path.join(data_dir, f\"pcb_image_{i}.jpg\")\n",
    "    create_pcb_image(filename, shapes)\n",
    "    labels.append({\"image\": filename, \"bbox\": bbox})\n",
    "\n",
    "# 레이블 저장\n",
    "labels_path = os.path.join(data_dir, \"pcb_labels.json\")\n",
    "with open(labels_path, \"w\") as f:\n",
    "    json.dump(labels, f)\n",
    "\n",
    "print(f\"데이터 생성 완료: {data_dir}\")\n"
   ]
  }
 ],
 "metadata": {
  "kernelspec": {
   "display_name": "Python (ultralytics_env)",
   "language": "python",
   "name": "ultralytics_env"
  },
  "language_info": {
   "codemirror_mode": {
    "name": "ipython",
    "version": 3
   },
   "file_extension": ".py",
   "mimetype": "text/x-python",
   "name": "python",
   "nbconvert_exporter": "python",
   "pygments_lexer": "ipython3",
   "version": "3.9.21"
  }
 },
 "nbformat": 4,
 "nbformat_minor": 2
}
