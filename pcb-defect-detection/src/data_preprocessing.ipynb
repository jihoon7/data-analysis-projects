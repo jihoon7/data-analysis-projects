{
 "cells": [
  {
   "cell_type": "markdown",
   "metadata": {},
   "source": [
    "## 2. 데이터 전처리\n",
    "\n",
    "### 설명\n",
    "이미지 데이터를 전처리하여 모델 학습에 적합한 형태로 변환합니다. 이미지를 크기 조정하고 정규화하여 `processed_data/` 폴더에 저장합니다.\n",
    "\n",
    "### 주요 내용\n",
    "- 크기 조정: 640x640으로 변환.\n",
    "- 정규화: 픽셀 값을 [0, 1] 범위로 조정.\n"
   ]
  },
  {
   "cell_type": "code",
   "execution_count": null,
   "metadata": {},
   "outputs": [],
   "source": [
    "# data_preprocessing.ipynb\n",
    "import os\n",
    "import cv2\n",
    "from pathlib import Path\n",
    "\n",
    "# 경로 설정\n",
    "processed_data_dir = os.path.join(base_dir, \"processed_data\")\n",
    "os.makedirs(processed_data_dir, exist_ok=True)\n",
    "\n",
    "# 전처리 함수\n",
    "def preprocess_images(input_dir, output_dir, img_size=(640, 640)):\n",
    "    Path(output_dir).mkdir(parents=True, exist_ok=True)\n",
    "    for img_file in Path(input_dir).glob(\"*.jpg\"):\n",
    "        img = cv2.imread(str(img_file))\n",
    "        img_resized = cv2.resize(img, img_size)\n",
    "        img_normalized = img_resized / 255.0\n",
    "        output_path = Path(output_dir) / img_file.name\n",
    "        cv2.imwrite(str(output_path), (img_normalized * 255).astype(\"uint8\"))\n",
    "        print(f\"전처리 완료: {output_path}\")\n",
    "\n",
    "# 실행\n",
    "preprocess_images(data_dir, processed_data_dir)\n"
   ]
  }
 ],
 "metadata": {
  "kernelspec": {
   "display_name": "Python (ultralytics_env)",
   "language": "python",
   "name": "ultralytics_env"
  },
  "language_info": {
   "codemirror_mode": {
    "name": "ipython",
    "version": 3
   },
   "file_extension": ".py",
   "mimetype": "text/x-python",
   "name": "python",
   "nbconvert_exporter": "python",
   "pygments_lexer": "ipython3",
   "version": "3.9.21"
  }
 },
 "nbformat": 4,
 "nbformat_minor": 2
}
