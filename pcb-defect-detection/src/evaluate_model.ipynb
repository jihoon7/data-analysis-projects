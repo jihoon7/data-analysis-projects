{
 "cells": [
  {
   "cell_type": "markdown",
   "metadata": {},
   "source": [
    "## 4. 평가 및 시각화\n",
    "\n",
    "### 설명\n",
    "모델 학습 결과를 평가하고 테스트 데이터를 사용하여 예측 결과를 시각화합니다.\n",
    "\n",
    "### 주요 내용\n",
    "- 평가: 테스트 데이터로 모델 성능 확인.\n",
    "- 시각화: 예측 결과를 Jupyter Notebook에서 확인.\n"
   ]
  },
  {
   "cell_type": "code",
   "execution_count": null,
   "metadata": {},
   "outputs": [],
   "source": [
    "# evaluate_model.ipynb\n",
    "from ultralytics import YOLO\n",
    "import os\n",
    "import matplotlib.pyplot as plt\n",
    "import cv2\n",
    "\n",
    "# 모델 평가 및 시각화\n",
    "def evaluate_and_visualize(model, test_data_dir):\n",
    "    test_images = [os.path.join(test_data_dir, img) for img in os.listdir(test_data_dir) if img.endswith(\".jpg\")]\n",
    "    results = model.predict(source=test_images, save=True)\n",
    "    \n",
    "    for result in results:\n",
    "        img = cv2.imread(result.path)\n",
    "        img = cv2.cvtColor(img, cv2.COLOR_BGR2RGB)\n",
    "        plt.imshow(img)\n",
    "        plt.axis(\"off\")\n",
    "        plt.show()\n",
    "\n",
    "# 실행\n",
    "model_path = os.path.join(model_save_dir, \"pcb_training\", \"weights\", \"best.pt\")\n",
    "model = YOLO(model_path)\n",
    "evaluate_and_visualize(model, test_data_dir)\n"
   ]
  }
 ],
 "metadata": {
  "kernelspec": {
   "display_name": "Python (ultralytics_env)",
   "language": "python",
   "name": "ultralytics_env"
  },
  "language_info": {
   "codemirror_mode": {
    "name": "ipython",
    "version": 3
   },
   "file_extension": ".py",
   "mimetype": "text/x-python",
   "name": "python",
   "nbconvert_exporter": "python",
   "pygments_lexer": "ipython3",
   "version": "3.9.21"
  }
 },
 "nbformat": 4,
 "nbformat_minor": 2
}
