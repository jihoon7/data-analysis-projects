{
 "cells": [
  {
   "cell_type": "markdown",
   "metadata": {},
   "source": [
    "## 3. 모델 학습 및 테스트 데이터 생성\n",
    "\n",
    "### 설명\n",
    "전처리된 데이터를 사용하여 YOLOv8 모델을 학습합니다. 또한, 평가를 위한 테스트 데이터를 생성합니다.\n",
    "\n",
    "### 주요 내용\n",
    "- 모델 학습: YOLOv8 학습 수행.\n",
    "- 테스트 데이터 생성: `tests/` 폴더에 저장.\n"
   ]
  },
  {
   "cell_type": "code",
   "execution_count": null,
   "metadata": {},
   "outputs": [],
   "source": [
    "# train_model.ipynb\n",
    "from ultralytics import YOLO\n",
    "import os\n",
    "from PIL import Image, ImageDraw\n",
    "\n",
    "# 테스트 데이터 생성 함수\n",
    "def create_test_images(test_dir, num_images=5):\n",
    "    os.makedirs(test_dir, exist_ok=True)\n",
    "    for i in range(1, num_images + 1):\n",
    "        img = Image.new(\"RGB\", (640, 640), color=\"white\")\n",
    "        draw = ImageDraw.Draw(img)\n",
    "        draw.rectangle([50, 50, 200, 200], outline=\"blue\", width=5)\n",
    "        img_path = os.path.join(test_dir, f\"test_image_{i}.jpg\")\n",
    "        img.save(img_path)\n",
    "        print(f\"테스트 이미지 생성 완료: {img_path}\")\n",
    "\n",
    "# 경로 설정\n",
    "test_data_dir = os.path.join(base_dir, \"tests\")\n",
    "create_test_images(test_data_dir, num_images=5)\n",
    "\n",
    "# 모델 학습\n",
    "data_yaml_path = os.path.join(processed_data_dir, \"pcb_data.yaml\")\n",
    "model_save_dir = os.path.join(base_dir, \"models\")\n",
    "os.makedirs(model_save_dir, exist_ok=True)\n",
    "\n",
    "model = YOLO(\"yolov8s\")\n",
    "model.train(data=data_yaml_path, epochs=30, imgsz=640, project=model_save_dir, name=\"pcb_training\", save=True)\n",
    "print(f\"모델 학습 완료. 저장 경로: {model_save_dir}\")\n"
   ]
  }
 ],
 "metadata": {
  "kernelspec": {
   "display_name": "Python (ultralytics_env)",
   "language": "python",
   "name": "ultralytics_env"
  },
  "language_info": {
   "codemirror_mode": {
    "name": "ipython",
    "version": 3
   },
   "file_extension": ".py",
   "mimetype": "text/x-python",
   "name": "python",
   "nbconvert_exporter": "python",
   "pygments_lexer": "ipython3",
   "version": "3.9.21"
  }
 },
 "nbformat": 4,
 "nbformat_minor": 2
}
