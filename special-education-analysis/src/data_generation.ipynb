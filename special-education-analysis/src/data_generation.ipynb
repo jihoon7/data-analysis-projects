{
 "cells": [
  {
   "cell_type": "code",
   "execution_count": null,
   "metadata": {},
   "outputs": [],
   "source": [
    "# 데이터 생성\n",
    "\n",
    "## 개요\n",
    "이 단계에서는 특수학생 데이터를 생성합니다. 데이터는 지역, 나이, 성별 및 특수학생 여부를 포함하며, 이후의 분석 및 모델링에 사용됩니다.\n",
    "\n",
    "## 데이터 생성 코드\n",
    "```python\n",
    "# 데이터 생성 코드\n",
    "import pandas as pd\n",
    "import random\n",
    "\n",
    "# 데이터 생성\n",
    "regions = ['Region A', 'Region B', 'Region C']\n",
    "data = {\n",
    "    'Region': [random.choice(regions) for _ in range(100)],\n",
    "    'Age': [random.randint(6, 18) for _ in range(100)],\n",
    "    'Gender': [random.choice(['Male', 'Female']) for _ in range(100)],\n",
    "    'SpecialNeeds': [random.choice(['Yes', 'No']) for _ in range(100)]\n",
    "}\n",
    "\n",
    "# 데이터프레임 저장\n",
    "df = pd.DataFrame(data)\n",
    "df.to_csv('C:/Users/user/Desktop/data-analysis-projects/special-education-analysis/data/special_education_data.csv', index=False)\n",
    "print(\"데이터 저장 완료.\")\n"
   ]
  },
  {
   "cell_type": "code",
   "execution_count": null,
   "metadata": {},
   "outputs": [],
   "source": []
  }
 ],
 "metadata": {
  "kernelspec": {
   "display_name": "Python (ultralytics_env)",
   "language": "python",
   "name": "ultralytics_env"
  },
  "language_info": {
   "codemirror_mode": {
    "name": "ipython",
    "version": 3
   },
   "file_extension": ".py",
   "mimetype": "text/x-python",
   "name": "python",
   "nbconvert_exporter": "python",
   "pygments_lexer": "ipython3",
   "version": "3.9.21"
  }
 },
 "nbformat": 4,
 "nbformat_minor": 2
}
