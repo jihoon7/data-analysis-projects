{
 "cells": [
  {
   "cell_type": "code",
   "execution_count": null,
   "metadata": {},
   "outputs": [],
   "source": [
    "# 데이터 탐색적 분석 (EDA)\n",
    "\n",
    "## 개요\n",
    "이 단계에서는 특수학생 데이터를 탐색하고, 시각화 및 통계 분석을 통해 데이터의 분포를 파악합니다.\n",
    "\n",
    "## EDA 코드\n",
    "```python\n",
    "# EDA 코드\n",
    "import pandas as pd\n",
    "import seaborn as sns\n",
    "import matplotlib.pyplot as plt\n",
    "\n",
    "# 데이터 로드\n",
    "file_path = 'C:/Users/user/Desktop/data-analysis-projects/special-education-analysis/data/special_education_data.csv'\n",
    "df = pd.read_csv(file_path)\n",
    "\n",
    "# 성별 분포\n",
    "sns.countplot(data=df, x='Gender')\n",
    "plt.title('성별 분포')\n",
    "plt.show()\n",
    "\n",
    "# 지역별 특수학생 비율\n",
    "sns.countplot(data=df, x='Region', hue='SpecialNeeds')\n",
    "plt.title('지역별 특수학생 비율')\n",
    "plt.show()\n"
   ]
  },
  {
   "cell_type": "code",
   "execution_count": null,
   "metadata": {},
   "outputs": [],
   "source": []
  }
 ],
 "metadata": {
  "kernelspec": {
   "display_name": "Python (ultralytics_env)",
   "language": "python",
   "name": "ultralytics_env"
  },
  "language_info": {
   "codemirror_mode": {
    "name": "ipython",
    "version": 3
   },
   "file_extension": ".py",
   "mimetype": "text/x-python",
   "name": "python",
   "nbconvert_exporter": "python",
   "pygments_lexer": "ipython3",
   "version": "3.9.21"
  }
 },
 "nbformat": 4,
 "nbformat_minor": 2
}
